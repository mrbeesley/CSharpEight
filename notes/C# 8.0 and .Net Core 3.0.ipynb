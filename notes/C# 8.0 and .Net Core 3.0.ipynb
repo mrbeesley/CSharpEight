{
 "cells": [
  {
   "cell_type": "markdown",
   "metadata": {},
   "source": [
    "<h1>Whats new in C# 8.0 and .Net Core 3.0</h1>"
   ]
  },
  {
   "cell_type": "markdown",
   "metadata": {},
   "source": [
    "<hr>\n",
    "<h3>A history of C#</h3>\n",
    "<ul>\n",
    "    <li>1.0 Very barebones</li>\n",
    "    <li>2.0 Generics arrive</li>\n",
    "    <li>3.0 Linq arrives with lambda and anonous types</li>\n",
    "    <li>4.0 Dynamics are introduced</li>\n",
    "    <li>5.0 Async and Await are brought to the language</li>\n",
    "    <li>6.0 Smaller update, null operator target?.isActive</li>\n",
    "    <li>7.0 Expressions and tuples</li>\n",
    "</ul>"
   ]
  },
  {
   "cell_type": "markdown",
   "metadata": {},
   "source": [
    "<hr>\n",
    "<h3>Nullable Reference Types</h3>\n",
    "<ul>\n",
    "    <li><b>Benefits</b></li>\n",
    "    <ul>\n",
    "        <li>Avoid null reference mistakes at compile-time</li>\n",
    "        <li>Does not remove null values from our code</li>\n",
    "        <li>Enables expressing <i>intent</i></li>\n",
    "    </ul>\n",
    "    <li><b>How to Enable:</b></li>\n",
    "    <ul>\n",
    "        <li>To enable you have to add the nullable xml attribute into the project file</li>\n",
    "        <li>You can also use compiler directives #nullable enable in the using section</li>\n",
    "    </ul>\n",
    "</ul>"
   ]
  },
  {
   "cell_type": "markdown",
   "metadata": {},
   "source": [
    "<hr>\n",
    "<h3>Pattern Matching</h3>\n",
    "<ul>\n",
    "    <li><b>Handled In Code Examples</b></li>\n",
    "</ul>"
   ]
  },
  {
   "cell_type": "markdown",
   "metadata": {},
   "source": [
    "<hr>\n",
    "<h3>Indices and Ranges</h3>\n",
    "<ul>\n",
    "    <li><b>Range Keyword</b></li>\n",
    "    <ul>\n",
    "        <li>allows you to extract a range</li>\n",
    "        <li>the start of the range is inclusive, but the end is not</li>\n",
    "        <li><i>Example</i></li>\n",
    "        <ul>\n",
    "            <li>var numbers = new[] {1, 2, 3, 4, 5}</li>        \n",
    "            <li>Range range = 2..4</li>\n",
    "            <li>var slice = numbers[range] // gives me 3,4</li>\n",
    "        </ul>\n",
    "        <li>To get every item in the array:</li>\n",
    "        <li>var range = numbers[0..^0] // 0 start index and ^0 == length</li>\n",
    "        <li>var range = numbers[0..] // short hand to get everything from the array</li>\n",
    "    </ul>\n",
    "    <li><b>Index Keyword</b></li>\n",
    "    <ul>\n",
    "        <li>allows you to use an indexer from the end of the array</li>\n",
    "        <li><i>Example</i>\n",
    "        <ul>\n",
    "            <li>numbers[^1] // gives me the last number in the array</li>        \n",
    "            <li>numbers[^0] == numbers.Length // using ^0 is outside of the bounds of the array</li>\n",
    "        </ul>\n",
    "    </ul>\n",
    "    \n",
    "    \n",
    "</ul>"
   ]
  },
  {
   "cell_type": "markdown",
   "metadata": {},
   "source": [
    "<hr>\n",
    "<h3>Built-in JSON Support</h3>\n",
    "<ul>\n",
    "    <li><b>System.Text.Json</b></li>\n",
    "    <li>Not as full featured as JSON.NET - but much faster</li>\n",
    "</ul>"
   ]
  },
  {
   "cell_type": "markdown",
   "metadata": {},
   "source": [
    "<hr>\n",
    "<h3>More Language Improvements</h3>\n",
    "<ul>\n",
    "    <li>Default Interface members</li>\n",
    "    <li>Using declarations</li>\n",
    "    <li>Async Streams</li>\n",
    "</ul>"
   ]
  },
  {
   "cell_type": "markdown",
   "metadata": {},
   "source": [
    "<hr>\n",
    "<h3>Other .Net Core Improvements</h3>\n",
    "<ul>\n",
    "    <li></li>\n",
    "</ul>"
   ]
  }
 ],
 "metadata": {
  "kernelspec": {
   "display_name": "Python 3",
   "language": "python",
   "name": "python3"
  },
  "language_info": {
   "codemirror_mode": {
    "name": "ipython",
    "version": 3
   },
   "file_extension": ".py",
   "mimetype": "text/x-python",
   "name": "python",
   "nbconvert_exporter": "python",
   "pygments_lexer": "ipython3",
   "version": "3.7.6"
  }
 },
 "nbformat": 4,
 "nbformat_minor": 4
}
